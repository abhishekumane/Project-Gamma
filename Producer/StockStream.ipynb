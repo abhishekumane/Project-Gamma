{
 "cells": [
  {
   "cell_type": "code",
   "execution_count": 11,
   "metadata": {},
   "outputs": [],
   "source": [
    "from kafka import KafkaProducer,KafkaClient\n",
    "from kafka.errors import KafkaError\n",
    "import time\n",
    "import json\n",
    "import websocket\n",
    "import logging\n",
    "import re\n",
    "#LOCAL IMPORTS\n",
    "import config as myCred\n",
    "from confluent_kafka.admin import AdminClient\n",
    "import hashlib"
   ]
  },
  {
   "cell_type": "code",
   "execution_count": 17,
   "metadata": {},
   "outputs": [],
   "source": [
    "def onOpen(ws):\n",
    "    print(\"connection Opened\")\n",
    "    auth_data={\n",
    "        \"action\": \"authenticate\",\n",
    "        \"data\": {\"key_id\": myCred.API_KEY, \"secret_key\": myCred.SECRET_KEY}\n",
    "    }\n",
    "    \n",
    "    ws.send(json.dumps(auth_data))\n",
    "    \n",
    "    listenMsg = {\n",
    "        \"action\": \"listen\", \n",
    "        \"data\": {\"streams\": [\"T.TSLA\",\"T.AAPL\",\"T.MSFT\"]}\n",
    "    }\n",
    "\n",
    "    ws.send(json.dumps(listenMsg))\n",
    "    \n",
    "def onMsg(ws,message):\n",
    "    if re.match('^.*authorized.*$',message):\n",
    "        print(message)\n",
    "        return\n",
    "    else:\n",
    "        if(time.time()-startTime)<10:\n",
    "            print(message)\n",
    "            try:\n",
    "                producer.send(topicName, value=message.encode('utf-8'))\n",
    "                return True\n",
    "            except Exception as ex:\n",
    "                logging.error(str(ex))\n",
    "        else:\n",
    "            producer.close()\n",
    "            ws.close()\n",
    "            \n",
    "def onClose(ws):\n",
    "    print(\"connection Closed\")"
   ]
  },
  {
   "cell_type": "code",
   "execution_count": 19,
   "metadata": {},
   "outputs": [
    {
     "name": "stdout",
     "output_type": "stream",
     "text": [
      "connection Opened\n",
      "{\"stream\":\"authorization\",\"data\":{\"action\":\"authenticate\",\"status\":\"authorized\"}}\n",
      "{\"stream\":\"listening\",\"data\":{\"streams\":[\"T.TSLA\",\"T.AAPL\",\"T.MSFT\"]}}\n",
      "{\"stream\":\"T.AAPL\",\"data\":{\"ev\":\"T\",\"T\":\"AAPL\",\"i\":\"727\",\"x\":3,\"p\":462.3,\"s\":3,\"t\":1597336175123000000,\"c\":[14,37,41],\"z\":3}}\n",
      "{\"stream\":\"T.AAPL\",\"data\":{\"ev\":\"T\",\"T\":\"AAPL\",\"i\":\"2950\",\"x\":2,\"p\":462.24,\"s\":2,\"t\":1597336178144000000,\"c\":[37],\"z\":3}}\n",
      "{\"stream\":\"T.MSFT\",\"data\":{\"ev\":\"T\",\"T\":\"MSFT\",\"i\":\"887\",\"x\":17,\"p\":210.98,\"s\":100,\"t\":1597336179515000000,\"c\":[14,41],\"z\":3}}\n",
      "{\"stream\":\"T.AAPL\",\"data\":{\"ev\":\"T\",\"T\":\"AAPL\",\"i\":\"2951\",\"x\":2,\"p\":462.28,\"s\":100,\"t\":1597336180614000000,\"c\":[14,41],\"z\":3}}\n",
      "{\"stream\":\"T.MSFT\",\"data\":{\"ev\":\"T\",\"T\":\"MSFT\",\"i\":\"313\",\"x\":3,\"p\":211,\"s\":11,\"t\":1597336180615000000,\"c\":[14,37,41],\"z\":3}}\n",
      "{\"stream\":\"T.MSFT\",\"data\":{\"ev\":\"T\",\"T\":\"MSFT\",\"i\":\"314\",\"x\":3,\"p\":211,\"s\":42,\"t\":1597336180616000000,\"c\":[14,37,41],\"z\":3}}\n"
     ]
    }
   ],
   "source": [
    "if __name__ == \"__main__\":\n",
    "    #creating producer log file\n",
    "    logging.basicConfig(filename=\"producer_log.log\", level=logging.INFO)\n",
    "    \n",
    "    #unit test to check if zookeeper an kafka are running properly\n",
    "    conf = {'bootstrap.servers':'localhost:9092'}\n",
    "    admin_client = AdminClient(conf)\n",
    "    topics = admin_client.list_topics().topics\n",
    "    if not topics: \n",
    "        logging.error(RuntimeError())\n",
    "    else:\n",
    "        logging.info(topics)\n",
    "    #websocket for data stream\n",
    "    startTime =time.time()\n",
    "    socket = \"wss://data.alpaca.markets/stream\"\n",
    "    ws = websocket.WebSocketApp(socket,on_open=onOpen, on_close=onClose, on_message=onMsg)\n",
    "    \n",
    "    try:\n",
    "        producer=KafkaProducer(bootstrap_servers=\" localhost:9092\")\n",
    "        topicName=\"test-topic\"\n",
    "    except KafkaError:\n",
    "        logging.error(KafkaError+'\\n')\n",
    "    ws.run_forever()"
   ]
  },
  {
   "cell_type": "code",
   "execution_count": null,
   "metadata": {},
   "outputs": [],
   "source": []
  }
 ],
 "metadata": {
  "kernelspec": {
   "display_name": "Python 3",
   "language": "python",
   "name": "python3"
  },
  "language_info": {
   "codemirror_mode": {
    "name": "ipython",
    "version": 3
   },
   "file_extension": ".py",
   "mimetype": "text/x-python",
   "name": "python",
   "nbconvert_exporter": "python",
   "pygments_lexer": "ipython3",
   "version": "3.7.3"
  }
 },
 "nbformat": 4,
 "nbformat_minor": 2
}
