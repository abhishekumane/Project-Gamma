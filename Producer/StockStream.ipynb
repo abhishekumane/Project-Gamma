{
 "cells": [
  {
   "cell_type": "code",
   "execution_count": 35,
   "metadata": {},
   "outputs": [],
   "source": [
    "from kafka import KafkaProducer,KafkaClient\n",
    "from kafka.errors import KafkaError\n",
    "import time\n",
    "import json\n",
    "import websocket\n",
    "import logging\n",
    "import re\n",
    "#LOCAL IMPORTS\n",
    "import config as myCred\n",
    "from confluent_kafka.admin import AdminClient\n",
    "import hashlib"
   ]
  },
  {
   "cell_type": "code",
   "execution_count": 54,
   "metadata": {},
   "outputs": [],
   "source": [
    "def onOpen(ws):\n",
    "    print(\"connection Opened\")\n",
    "    auth_data={\n",
    "        \"action\": \"authenticate\",\n",
    "        \"data\": {\"key_id\": myCred.API_KEY, \"secret_key\": myCred.SECRET_KEY}\n",
    "    }\n",
    "    \n",
    "    ws.send(json.dumps(auth_data))\n",
    "    \n",
    "    listenMsg = {\n",
    "        \"action\": \"listen\", \n",
    "        \"data\": {\"streams\": [\"T.TSLA\",\"T.AAPL\",\"T.MSFT\",\"T.QCOM\"]}\n",
    "    }\n",
    "\n",
    "    ws.send(json.dumps(listenMsg))\n",
    "    \n",
    "def onMsg(ws,message):\n",
    "    if re.match('^.*authorized.*$',message):\n",
    "        print(message)\n",
    "        return\n",
    "    else:\n",
    "        if(time.time()-startTime)<30:\n",
    "            print(message)\n",
    "            try:\n",
    "                producer.send(topicName, value=message.encode('utf-8'))\n",
    "                return True\n",
    "            except Exception as ex:\n",
    "                logging.error(str(ex))\n",
    "        else:\n",
    "            producer.close()\n",
    "            ws.close()\n",
    "            \n",
    "def onClose(ws):\n",
    "    print(\"connection Closed\")\n",
    "    \n",
    "def testCode():\n",
    "    i=0\n",
    "    while i<30:\n",
    "        x = '{\"stream\":\"T.AAPL\",\"data\":{\"ev\":\"T\",\"T\":\"AAPL\",\"i\":\"3041\",\"x\":2,\"p\":389.32,\"s\":1,\"t\":1596126853339000000,\"c\":[37],\"z\":3},\"loop\":'+str(i)+'}' \n",
    "        print(x)\n",
    "        producer.send(topicName, value=x.encode(\"utf-8\"))\n",
    "        i=i+1\n",
    "    producer.close()"
   ]
  },
  {
   "cell_type": "code",
   "execution_count": 57,
   "metadata": {
    "scrolled": true
   },
   "outputs": [
    {
     "name": "stdout",
     "output_type": "stream",
     "text": [
      "connection Opened\n",
      "{\"stream\":\"authorization\",\"data\":{\"action\":\"authenticate\",\"status\":\"authorized\"}}\n",
      "{\"stream\":\"listening\",\"data\":{\"streams\":[\"T.TSLA\",\"T.AAPL\",\"T.MSFT\",\"T.QCOM\"]}}\n",
      "{\"stream\":\"T.AAPL\",\"data\":{\"ev\":\"T\",\"T\":\"AAPL\",\"i\":\"4870\",\"x\":15,\"p\":455.97,\"s\":100,\"t\":1597419432298000000,\"c\":null,\"z\":3}}\n",
      "{\"stream\":\"T.QCOM\",\"data\":{\"ev\":\"T\",\"T\":\"QCOM\",\"i\":\"418\",\"x\":3,\"p\":113.8,\"s\":100,\"t\":1597419432386000000,\"c\":[14,41],\"z\":3}}\n",
      "{\"stream\":\"T.QCOM\",\"data\":{\"ev\":\"T\",\"T\":\"QCOM\",\"i\":\"375\",\"x\":2,\"p\":113.83,\"s\":100,\"t\":1597419437426000000,\"c\":[14,41],\"z\":3}}\n",
      "{\"stream\":\"T.QCOM\",\"data\":{\"ev\":\"T\",\"T\":\"QCOM\",\"i\":\"419\",\"x\":3,\"p\":113.81,\"s\":100,\"t\":1597419437427000000,\"c\":null,\"z\":3}}\n",
      "{\"stream\":\"T.AAPL\",\"data\":{\"ev\":\"T\",\"T\":\"AAPL\",\"i\":\"4871\",\"x\":15,\"p\":456.05,\"s\":2,\"t\":1597419440251000000,\"c\":[37],\"z\":3}}\n",
      "{\"stream\":\"T.TSLA\",\"data\":{\"ev\":\"T\",\"T\":\"TSLA\",\"i\":\"300\",\"x\":3,\"p\":1650.82,\"s\":63,\"t\":1597419441797000000,\"c\":[14,37,41],\"z\":3}}\n",
      "{\"stream\":\"T.TSLA\",\"data\":{\"ev\":\"T\",\"T\":\"TSLA\",\"i\":\"301\",\"x\":3,\"p\":1650.82,\"s\":1,\"t\":1597419441797000000,\"c\":[14,37,41],\"z\":3}}\n",
      "{\"stream\":\"T.QCOM\",\"data\":{\"ev\":\"T\",\"T\":\"QCOM\",\"i\":\"268\",\"x\":17,\"p\":113.77,\"s\":1,\"t\":1597419442443000000,\"c\":[14,37,41],\"z\":3}}\n",
      "{\"stream\":\"T.AAPL\",\"data\":{\"ev\":\"T\",\"T\":\"AAPL\",\"i\":\"1122\",\"x\":17,\"p\":456.22,\"s\":297,\"t\":1597419444240000000,\"c\":[14,41],\"z\":3}}\n",
      "{\"stream\":\"T.AAPL\",\"data\":{\"ev\":\"T\",\"T\":\"AAPL\",\"i\":\"1123\",\"x\":17,\"p\":456.23,\"s\":2,\"t\":1597419444778000000,\"c\":[37],\"z\":3}}\n",
      "{\"stream\":\"T.AAPL\",\"data\":{\"ev\":\"T\",\"T\":\"AAPL\",\"i\":\"1124\",\"x\":17,\"p\":456.04,\"s\":100,\"t\":1597419445549000000,\"c\":[14,41],\"z\":3}}\n",
      "{\"stream\":\"T.AAPL\",\"data\":{\"ev\":\"T\",\"T\":\"AAPL\",\"i\":\"4872\",\"x\":15,\"p\":456.03,\"s\":100,\"t\":1597419445620000000,\"c\":null,\"z\":3}}\n",
      "{\"stream\":\"T.AAPL\",\"data\":{\"ev\":\"T\",\"T\":\"AAPL\",\"i\":\"4873\",\"x\":15,\"p\":456.02,\"s\":100,\"t\":1597419446494000000,\"c\":null,\"z\":3}}\n",
      "{\"stream\":\"T.AAPL\",\"data\":{\"ev\":\"T\",\"T\":\"AAPL\",\"i\":\"4874\",\"x\":15,\"p\":456.01,\"s\":2,\"t\":1597419446494000000,\"c\":[37],\"z\":3}}\n",
      "{\"stream\":\"T.AAPL\",\"data\":{\"ev\":\"T\",\"T\":\"AAPL\",\"i\":\"2800\",\"x\":2,\"p\":455.98,\"s\":68,\"t\":1597419446785000000,\"c\":[37],\"z\":3}}\n",
      "{\"stream\":\"T.AAPL\",\"data\":{\"ev\":\"T\",\"T\":\"AAPL\",\"i\":\"84\",\"x\":9,\"p\":455.98,\"s\":100,\"t\":1597419446992000000,\"c\":null,\"z\":3}}\n",
      "{\"stream\":\"T.TSLA\",\"data\":{\"ev\":\"T\",\"T\":\"TSLA\",\"i\":\"2370\",\"x\":17,\"p\":1650.11,\"s\":12,\"t\":1597419447828000000,\"c\":[37],\"z\":3}}\n",
      "{\"stream\":\"T.TSLA\",\"data\":{\"ev\":\"T\",\"T\":\"TSLA\",\"i\":\"2371\",\"x\":17,\"p\":1650.11,\"s\":12,\"t\":1597419447828000000,\"c\":[37],\"z\":3}}\n",
      "{\"stream\":\"T.TSLA\",\"data\":{\"ev\":\"T\",\"T\":\"TSLA\",\"i\":\"2372\",\"x\":17,\"p\":1649.41,\"s\":12,\"t\":1597419447833000000,\"c\":[14,37,41],\"z\":3}}\n",
      "{\"stream\":\"T.TSLA\",\"data\":{\"ev\":\"T\",\"T\":\"TSLA\",\"i\":\"2373\",\"x\":17,\"p\":1649.39,\"s\":2,\"t\":1597419447833000000,\"c\":[14,37,41],\"z\":3}}\n",
      "{\"stream\":\"T.TSLA\",\"data\":{\"ev\":\"T\",\"T\":\"TSLA\",\"i\":\"2374\",\"x\":17,\"p\":1649.34,\"s\":2,\"t\":1597419447833000000,\"c\":[14,37,41],\"z\":3}}\n",
      "{\"stream\":\"T.TSLA\",\"data\":{\"ev\":\"T\",\"T\":\"TSLA\",\"i\":\"2375\",\"x\":17,\"p\":1648.96,\"s\":84,\"t\":1597419447833000000,\"c\":[14,37,41],\"z\":3}}\n",
      "{\"stream\":\"T.TSLA\",\"data\":{\"ev\":\"T\",\"T\":\"TSLA\",\"i\":\"2376\",\"x\":17,\"p\":1648.96,\"s\":16,\"t\":1597419447833000000,\"c\":[14,37,41],\"z\":3}}\n",
      "{\"stream\":\"T.TSLA\",\"data\":{\"ev\":\"T\",\"T\":\"TSLA\",\"i\":\"2377\",\"x\":17,\"p\":1648.95,\"s\":5,\"t\":1597419447833000000,\"c\":[14,37,41],\"z\":3}}\n",
      "{\"stream\":\"T.TSLA\",\"data\":{\"ev\":\"T\",\"T\":\"TSLA\",\"i\":\"2378\",\"x\":17,\"p\":1648.91,\"s\":100,\"t\":1597419447833000000,\"c\":[14,41],\"z\":3}}\n",
      "{\"stream\":\"T.TSLA\",\"data\":{\"ev\":\"T\",\"T\":\"TSLA\",\"i\":\"2379\",\"x\":17,\"p\":1649.12,\"s\":5,\"t\":1597419447834000000,\"c\":[14,37,41],\"z\":3}}\n",
      "{\"stream\":\"T.AAPL\",\"data\":{\"ev\":\"T\",\"T\":\"AAPL\",\"i\":\"2801\",\"x\":2,\"p\":456.1,\"s\":5,\"t\":1597419453715000000,\"c\":[37],\"z\":3}}\n",
      "{\"stream\":\"T.QCOM\",\"data\":{\"ev\":\"T\",\"T\":\"QCOM\",\"i\":\"551\",\"x\":15,\"p\":113.76,\"s\":100,\"t\":1597419453850000000,\"c\":null,\"z\":3}}\n",
      "{\"stream\":\"T.AAPL\",\"data\":{\"ev\":\"T\",\"T\":\"AAPL\",\"i\":\"4875\",\"x\":15,\"p\":456.065,\"s\":100,\"t\":1597419458409000000,\"c\":null,\"z\":3}}\n"
     ]
    }
   ],
   "source": [
    "if __name__ == \"__main__\":\n",
    "    #creating producer log file\n",
    "    logging.basicConfig(filename=\"producer_log.log\", level=logging.INFO)\n",
    "    \n",
    "    #unit test to check if zookeeper an kafka are running properly\n",
    "    conf = {'bootstrap.servers':'localhost:9092'}\n",
    "    admin_client = AdminClient(conf)\n",
    "    topics = admin_client.list_topics().topics\n",
    "    if not topics: \n",
    "        logging.error(RuntimeError())\n",
    "    else:\n",
    "        logging.info(topics)\n",
    "    #websocket for data stream\n",
    "    startTime =time.time()\n",
    "    socket = \"wss://data.alpaca.markets/stream\"\n",
    "    ws = websocket.WebSocketApp(socket,on_open=onOpen, on_close=onClose, on_message=onMsg)\n",
    "    \n",
    "    try:\n",
    "        producer=KafkaProducer(bootstrap_servers=\" localhost:9092\")\n",
    "        topicName=\"test-topic\"\n",
    "        #testCode()\n",
    "    except KafkaError:\n",
    "        logging.error(KafkaError+'\\n')\n",
    "    ws.run_forever()"
   ]
  },
  {
   "cell_type": "code",
   "execution_count": null,
   "metadata": {},
   "outputs": [],
   "source": []
  },
  {
   "cell_type": "code",
   "execution_count": null,
   "metadata": {},
   "outputs": [],
   "source": []
  }
 ],
 "metadata": {
  "kernelspec": {
   "display_name": "Python 3",
   "language": "python",
   "name": "python3"
  },
  "language_info": {
   "codemirror_mode": {
    "name": "ipython",
    "version": 3
   },
   "file_extension": ".py",
   "mimetype": "text/x-python",
   "name": "python",
   "nbconvert_exporter": "python",
   "pygments_lexer": "ipython3",
   "version": "3.7.3"
  }
 },
 "nbformat": 4,
 "nbformat_minor": 2
}
